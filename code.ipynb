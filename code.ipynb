{
 "cells": [
  {
   "cell_type": "code",
   "execution_count": 4,
   "metadata": {},
   "outputs": [],
   "source": [
    "import cv2\r\n",
    "import numpy as np\r\n",
    "\r\n",
    "\r\n",
    "facexml = cv2.CascadeClassifier('face.xml')\r\n",
    "eyexml = cv2.CascadeClassifier('eye.xml')\r\n",
    "smilexml = cv2.CascadeClassifier('smile.xml')\r\n",
    "#eyexml = cv2.CascadeClassifier(cv2.data.haarcascades + \"haarcascade_eye.xml\")\r\n",
    "#smilexml = cv2.CascadeClassifier(cv2.data.haarcascades + \"haarcascade_smile.xml\")\r\n",
    "\r\n",
    "\r\n",
    "cap = cv2.VideoCapture(0)\r\n",
    "\r\n",
    "while(True):\r\n",
    "    _, frame = cap.read()\r\n",
    "    gray = cv2.cvtColor(frame,cv2.COLOR_BGR2GRAY)\r\n",
    "    faces = facexml.detectMultiScale(gray)\r\n",
    "    \r\n",
    "\r\n",
    "    for (x,y,w,h) in faces:\r\n",
    "        cv2.rectangle(frame,(x,y),(x+w,y+h),(0,0,255),3)\r\n",
    "        img_crop_gray = gray[x:x+w, y:y+h]\r\n",
    "        img_crop_colorful = frame[x:x+w, y:y+h]\r\n",
    "        \r\n",
    "        eyes = eyexml.detectMultiScale(img_crop_gray)\r\n",
    "        for (x2, y2, w2, h2) in eyes:\r\n",
    "            cv2.rectangle(img_crop_colorful, (x2, y2),\r\n",
    "                          (x2+w2, y2+h2), (0, 0, 255), 3)\r\n",
    "        \r\n",
    "        smile = smilexml.detectMultiScale(img_crop_gray)\r\n",
    "        for (x3, y3, w3, h3) in smile:\r\n",
    "            cv2.rectangle(img_crop_colorful, (x3, y3),\r\n",
    "                          (x3+w3, y3+h3), (0, 0, 255), 3)\r\n",
    "        \r\n",
    "    cv2.imshow('out', frame)\r\n",
    "    if(cv2.waitKey(1) & 0XFF == ord('q')):\r\n",
    "        break\r\n",
    "\r\n",
    "\r\n",
    "cap.release()\r\n",
    "cv2.destroyAllWindows()\r\n",
    "\r\n",
    "\r\n",
    "\r\n",
    "\r\n",
    "\r\n",
    "\r\n",
    "\r\n",
    "\r\n"
   ]
  }
 ],
 "metadata": {
  "interpreter": {
   "hash": "8d86c190dfcadcdaa67edec4a1ea82702241987b5b1f320c920d3d4ca36fee5b"
  },
  "kernelspec": {
   "display_name": "Python 3.7.6 64-bit ('base': conda)",
   "name": "python3"
  },
  "language_info": {
   "codemirror_mode": {
    "name": "ipython",
    "version": 3
   },
   "file_extension": ".py",
   "mimetype": "text/x-python",
   "name": "python",
   "nbconvert_exporter": "python",
   "pygments_lexer": "ipython3",
   "version": "3.7.6"
  },
  "orig_nbformat": 4
 },
 "nbformat": 4,
 "nbformat_minor": 2
}